{
  "nbformat": 4,
  "nbformat_minor": 0,
  "metadata": {
    "colab": {
      "name": "lap 2.ipynb",
      "provenance": [],
      "authorship_tag": "ABX9TyO0lKIFwPDzaWBBz6FKTdk3",
      "include_colab_link": true
    },
    "kernelspec": {
      "name": "python3",
      "display_name": "Python 3"
    },
    "language_info": {
      "name": "python"
    }
  },
  "cells": [
    {
      "cell_type": "markdown",
      "metadata": {
        "id": "view-in-github",
        "colab_type": "text"
      },
      "source": [
        "<a href=\"https://colab.research.google.com/github/luulytinh/phantichdulieu1/blob/main/lap_2.ipynb\" target=\"_parent\"><img src=\"https://colab.research.google.com/assets/colab-badge.svg\" alt=\"Open In Colab\"/></a>"
      ]
    },
    {
      "cell_type": "code",
      "execution_count": 2,
      "metadata": {
        "id": "KoEe7y46Ezht"
      },
      "outputs": [],
      "source": [
        "import pandas as pd\n",
        "import numpy as np\n",
        "import matplotlib.pyplot as plt\n"
      ]
    },
    {
      "cell_type": "code",
      "source": [
        "df = pd.read_csv(\"E:\\\\VLU\\Semester2-2021-2022\\DeepLearning\\Pratice\\DuLieu\\processed_dulieuxettuyendaihoc.csv\")\n",
        "df"
      ],
      "metadata": {
        "id": "rp9jLDr_LMM0"
      },
      "execution_count": null,
      "outputs": []
    },
    {
      "cell_type": "code",
      "source": [
        ""
      ],
      "metadata": {
        "id": "v9RW750mLBDz"
      },
      "execution_count": null,
      "outputs": []
    }
  ]
}